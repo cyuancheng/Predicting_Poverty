{
  "nbformat": 4,
  "nbformat_minor": 0,
  "metadata": {
    "colab": {
      "name": "04_Satellite_Image_process.ipynb",
      "provenance": [],
      "authorship_tag": "ABX9TyMVKOjL+9MR56mf6PJkpZ3U",
      "include_colab_link": true
    },
    "kernelspec": {
      "name": "python3",
      "display_name": "Python 3"
    },
    "accelerator": "GPU"
  },
  "cells": [
    {
      "cell_type": "markdown",
      "metadata": {
        "id": "view-in-github",
        "colab_type": "text"
      },
      "source": [
        "<a href=\"https://colab.research.google.com/github/cyuancheng/Predicting_Poverty/blob/master/04_Satellite_Image_process.ipynb\" target=\"_parent\"><img src=\"https://colab.research.google.com/assets/colab-badge.svg\" alt=\"Open In Colab\"/></a>"
      ]
    },
    {
      "cell_type": "code",
      "metadata": {
        "id": "_f78G0p4tZtN",
        "colab_type": "code",
        "colab": {}
      },
      "source": [
        "# Code to read csv file into Colaboratory:\n",
        "import os\n",
        "import os.path\n",
        "import numpy as np\n",
        "import time\n",
        "import scipy\n",
        "import matplotlib as mpl\n",
        "import matplotlib.pyplot as plt\n",
        "\n",
        "import PIL\n",
        "import PIL.Image\n",
        "import tensorflow as tf"
      ],
      "execution_count": 1,
      "outputs": []
    },
    {
      "cell_type": "code",
      "metadata": {
        "id": "N8OEA0LAvrnl",
        "colab_type": "code",
        "colab": {}
      },
      "source": [
        "from fastai.vision import *\n",
        "from fastai.widgets import *"
      ],
      "execution_count": 2,
      "outputs": []
    },
    {
      "cell_type": "code",
      "metadata": {
        "id": "XH8j-mATsrko",
        "colab_type": "code",
        "colab": {
          "base_uri": "https://localhost:8080/",
          "height": 122
        },
        "outputId": "4b9c1b23-a0fa-4b16-8b18-ef30b68dfebc"
      },
      "source": [
        "from google.colab import drive\n",
        "drive.mount('/content/drive')"
      ],
      "execution_count": 4,
      "outputs": [
        {
          "output_type": "stream",
          "text": [
            "Go to this URL in a browser: https://accounts.google.com/o/oauth2/auth?client_id=947318989803-6bn6qk8qdgf4n4g3pfee6491hc0brc4i.apps.googleusercontent.com&redirect_uri=urn%3aietf%3awg%3aoauth%3a2.0%3aoob&scope=email%20https%3a%2f%2fwww.googleapis.com%2fauth%2fdocs.test%20https%3a%2f%2fwww.googleapis.com%2fauth%2fdrive%20https%3a%2f%2fwww.googleapis.com%2fauth%2fdrive.photos.readonly%20https%3a%2f%2fwww.googleapis.com%2fauth%2fpeopleapi.readonly&response_type=code\n",
            "\n",
            "Enter your authorization code:\n",
            "··········\n",
            "Mounted at /content/drive\n"
          ],
          "name": "stdout"
        }
      ]
    },
    {
      "cell_type": "code",
      "metadata": {
        "id": "TiNaLcL5uXQ-",
        "colab_type": "code",
        "colab": {}
      },
      "source": [
        "path = Path('drive/My Drive')"
      ],
      "execution_count": 18,
      "outputs": []
    },
    {
      "cell_type": "code",
      "metadata": {
        "id": "SEgtNkrMsR3o",
        "colab_type": "code",
        "colab": {}
      },
      "source": [
        "# add all image filenames into a list\n",
        "images_name = []\n",
        "idx_name = []\n",
        "for i in range(63):\n",
        "  dir_ = str(path)+'/google_images/'+ str(i) + '/'\n",
        "  try:\n",
        "    image_files = os.listdir(dir_)\n",
        "    images_name.append(image_files)\n",
        "    idx_name.append(i)\n",
        "  except: pass"
      ],
      "execution_count": 19,
      "outputs": []
    },
    {
      "cell_type": "code",
      "metadata": {
        "id": "wgSoddDzNRk0",
        "colab_type": "code",
        "colab": {
          "base_uri": "https://localhost:8080/",
          "height": 34
        },
        "outputId": "5988bb13-fd4d-407f-f4b8-c35b02cb80f5"
      },
      "source": [
        "all_images_downloaded = []\n",
        "for i in range(0, len(images_name)): \n",
        "  list_within = images_name[i]\n",
        "  for item in list_within: \n",
        "    all_images_downloaded.append(item)\n",
        "print('total number of images =',len(all_images_downloaded))"
      ],
      "execution_count": 20,
      "outputs": [
        {
          "output_type": "stream",
          "text": [
            "total number of images = 50025\n"
          ],
          "name": "stdout"
        }
      ]
    },
    {
      "cell_type": "code",
      "metadata": {
        "id": "80A9c80PQpGn",
        "colab_type": "code",
        "colab": {}
      },
      "source": [
        "len_images_name=[]\n",
        "for i in range(len(images_name)):\n",
        "  len_images_name.append(len(images_name[i]))\n",
        "#  print(len(images_name)):"
      ],
      "execution_count": 21,
      "outputs": []
    },
    {
      "cell_type": "code",
      "metadata": {
        "id": "9lXdkZ-RUX9Z",
        "colab_type": "code",
        "colab": {
          "base_uri": "https://localhost:8080/",
          "height": 34
        },
        "outputId": "aea9e694-9c28-4bde-b0f1-3e3d706e0528"
      },
      "source": [
        "df_test = pd.DataFrame({'idx':idx_name, 'names':len_images_name})\n",
        "df_test.shape"
      ],
      "execution_count": 22,
      "outputs": [
        {
          "output_type": "execute_result",
          "data": {
            "text/plain": [
              "(57, 2)"
            ]
          },
          "metadata": {
            "tags": []
          },
          "execution_count": 22
        }
      ]
    },
    {
      "cell_type": "code",
      "metadata": {
        "id": "75635bL5junL",
        "colab_type": "code",
        "colab": {
          "base_uri": "https://localhost:8080/",
          "height": 34
        },
        "outputId": "22f51558-0ac0-4ca7-c47d-adfdd28496e0"
      },
      "source": [
        "df_test['names'].sum()"
      ],
      "execution_count": 23,
      "outputs": [
        {
          "output_type": "execute_result",
          "data": {
            "text/plain": [
              "50025"
            ]
          },
          "metadata": {
            "tags": []
          },
          "execution_count": 23
        }
      ]
    },
    {
      "cell_type": "code",
      "metadata": {
        "id": "MqRlkjJcVJCy",
        "colab_type": "code",
        "colab": {
          "base_uri": "https://localhost:8080/",
          "height": 204
        },
        "outputId": "2ed55e58-787b-4513-874a-e664157976b7"
      },
      "source": [
        "### Classify images into three groups\n",
        "def move_to_group(lightness_small, lightness_big, class_id):\n",
        "    new_directory = 'data/google_image_cnn/class_' + str(class_id) + '/'\n",
        "    if not os.path.isdir(new_directory):\n",
        "        os.makedirs(new_directory)\n",
        "    for i in range(lightness_small, lightness_big):\n",
        "        path = 'data/google_image/' + str(i) + '/'\n",
        "        for f in os.listdir(path):\n",
        "            copyfile(path + f, new_directory + f)\n",
        "\n",
        "move_to_group(0, 1, 1)\n",
        "move_to_group(1, 10, 2)\n",
        "move_to_group(10, 64, 3)"
      ],
      "execution_count": null,
      "outputs": [
        {
          "output_type": "execute_result",
          "data": {
            "text/html": [
              "<div>\n",
              "<style scoped>\n",
              "    .dataframe tbody tr th:only-of-type {\n",
              "        vertical-align: middle;\n",
              "    }\n",
              "\n",
              "    .dataframe tbody tr th {\n",
              "        vertical-align: top;\n",
              "    }\n",
              "\n",
              "    .dataframe thead th {\n",
              "        text-align: right;\n",
              "    }\n",
              "</style>\n",
              "<table border=\"1\" class=\"dataframe\">\n",
              "  <thead>\n",
              "    <tr style=\"text-align: right;\">\n",
              "      <th></th>\n",
              "      <th>idx</th>\n",
              "      <th>names</th>\n",
              "    </tr>\n",
              "  </thead>\n",
              "  <tbody>\n",
              "    <tr>\n",
              "      <th>0</th>\n",
              "      <td>0</td>\n",
              "      <td>48960</td>\n",
              "    </tr>\n",
              "    <tr>\n",
              "      <th>1</th>\n",
              "      <td>6</td>\n",
              "      <td>332</td>\n",
              "    </tr>\n",
              "    <tr>\n",
              "      <th>2</th>\n",
              "      <td>7</td>\n",
              "      <td>240</td>\n",
              "    </tr>\n",
              "    <tr>\n",
              "      <th>3</th>\n",
              "      <td>8</td>\n",
              "      <td>122</td>\n",
              "    </tr>\n",
              "    <tr>\n",
              "      <th>4</th>\n",
              "      <td>9</td>\n",
              "      <td>91</td>\n",
              "    </tr>\n",
              "  </tbody>\n",
              "</table>\n",
              "</div>"
            ],
            "text/plain": [
              "   idx  names\n",
              "0    0  48960\n",
              "1    6    332\n",
              "2    7    240\n",
              "3    8    122\n",
              "4    9     91"
            ]
          },
          "metadata": {
            "tags": []
          },
          "execution_count": 17
        }
      ]
    },
    {
      "cell_type": "markdown",
      "metadata": {
        "id": "-fGWSSJca0d8",
        "colab_type": "text"
      },
      "source": [
        "### Merge daytime image data with DHS"
      ]
    },
    {
      "cell_type": "code",
      "metadata": {
        "id": "FatL9n83Qsq_",
        "colab_type": "code",
        "colab": {}
      },
      "source": [
        "features_basic = np.loadtxt(str(path)+'/google_images/google_image_features_basic.csv')"
      ],
      "execution_count": 24,
      "outputs": []
    },
    {
      "cell_type": "code",
      "metadata": {
        "id": "P6XCbgqRa7u1",
        "colab_type": "code",
        "colab": {}
      },
      "source": [
        "# help file\n",
        "def get_cell_idx(lon, lat, top_left_x_coords, top_left_y_coords):\n",
        "    lon_idx = np.where(top_left_x_coords < lon)[0][-1]\n",
        "    lat_idx = np.where(top_left_y_coords > lat)[0][-1]\n",
        "    return lon_idx, lat_idx\n",
        "\n",
        "def get_daytime_feature(sample):\n",
        "    idx, wealth, x, y = sample\n",
        "    lon_idx, lat_idx = get_cell_idx(x, y, top_left_x_coords, top_left_y_coords)\n",
        "    left_idx = lon_idx - 5\n",
        "    right_idx = lon_idx + 4\n",
        "    up_idx = lat_idx - 5\n",
        "    low_idx = lat_idx + 4\n",
        "    features_100 = []\n",
        "    for i in range(left_idx, right_idx + 1):\n",
        "        for j in range(up_idx, low_idx + 1):\n",
        "            feature = features_basic[((features_basic[:,0]==i) & (features_basic[:,1]==j)),][:,2:]\n",
        "            if len(feature) > 0:\n",
        "                features_100.append(feature)\n",
        "    if len(features_100) == 0:\n",
        "        return np.asarray([np.nan] * 15 + [wealth]).tolist()\n",
        "    else:\n",
        "        features_all = np.concatenate(features_100, axis=0)\n",
        "        mean_ = np.mean(features_all, axis=0).tolist()\n",
        "        mean_.append(wealth)\n",
        "        return mean_"
      ],
      "execution_count": 25,
      "outputs": []
    },
    {
      "cell_type": "code",
      "metadata": {
        "id": "7zfW7vqxc0pM",
        "colab_type": "code",
        "colab": {}
      },
      "source": [
        "npzfile = np.load(str(path)+'/google_images/nightlight.npz')\n",
        "top_left_x_coords = npzfile['top_left_x_coords']\n",
        "top_left_y_coords = npzfile['top_left_y_coords']\n",
        "bands_data = npzfile['bands_data']"
      ],
      "execution_count": 26,
      "outputs": []
    },
    {
      "cell_type": "code",
      "metadata": {
        "id": "5tMGpIl1bBHP",
        "colab_type": "code",
        "colab": {}
      },
      "source": [
        "clusters = pd.read_csv(str(path)+'/google_images/BU_cluster_avg_asset_2010.csv')\n",
        "clusters['feature'] = clusters.apply(lambda x: get_daytime_feature([x['cluster'], x['wlthindf'], x['longitude'], x['latitude']]), axis=1)\n",
        "\n",
        "data_all = clusters['feature']\n",
        "data_all = np.asarray([i for i in data_all])\n",
        "data_all = data_all[~np.isnan(data_all).any(axis=1)]\n",
        "\n",
        "np.savetxt(str(path)+'/google_images/DHS_daytime.csv', data_all)"
      ],
      "execution_count": 27,
      "outputs": []
    },
    {
      "cell_type": "code",
      "metadata": {
        "id": "TV8OA2nib3zX",
        "colab_type": "code",
        "colab": {}
      },
      "source": [
        "#data_all = np.loadtxt('intermediate_files/DHS_daytime.csv')\n"
      ],
      "execution_count": 29,
      "outputs": []
    },
    {
      "cell_type": "markdown",
      "metadata": {
        "id": "Zh5BuCA_gR6X",
        "colab_type": "text"
      },
      "source": [
        "Image Preprocess"
      ]
    },
    {
      "cell_type": "code",
      "metadata": {
        "id": "E8Qu8MKykBvT",
        "colab_type": "code",
        "colab": {}
      },
      "source": [
        "image_path = 'drive/My Drive/google_image_class/'\n",
        "def plt_display(image, title):\n",
        "  fig = plt.figure()\n",
        "  a = fig.add_subplot(1, 1, 1)\n",
        "  imgplot = plt.imshow(image)\n",
        "  a.set_title(title)"
      ],
      "execution_count": 31,
      "outputs": []
    },
    {
      "cell_type": "code",
      "metadata": {
        "id": "99weXoS-b5pb",
        "colab_type": "code",
        "colab": {}
      },
      "source": [
        "path_1 = Path('drive/My Drive/google_image_class/class_1')\n",
        "np.random.seed(42)\n",
        "data_1 = ImageDataBunch.from_folder(path_1, train=\".\", valid_pct=0.2,\n",
        "        ds_tfms=get_transforms(), size=224, num_workers=4).normalize(imagenet_stats)\n"
      ],
      "execution_count": 33,
      "outputs": []
    },
    {
      "cell_type": "code",
      "metadata": {
        "id": "GhEM2VlSka3z",
        "colab_type": "code",
        "colab": {}
      },
      "source": [
        "data_1.show_batch(rows=3, figsize=(8,8))"
      ],
      "execution_count": null,
      "outputs": []
    },
    {
      "cell_type": "code",
      "metadata": {
        "id": "6Gc7P3nenZ98",
        "colab_type": "code",
        "colab": {}
      },
      "source": [
        "path_2 = Path('drive/My Drive/google_image_class/class_2')\n",
        "np.random.seed(42)\n",
        "data_2 = ImageDataBunch.from_folder(path_2, train=\".\", valid_pct=0.2,\n",
        "        ds_tfms=get_transforms(), size=224, num_workers=4).normalize(imagenet_stats)\n"
      ],
      "execution_count": null,
      "outputs": []
    },
    {
      "cell_type": "code",
      "metadata": {
        "id": "Hk8NKn6nnegQ",
        "colab_type": "code",
        "colab": {}
      },
      "source": [
        "data_2.show_batch(rows=3, figsize=(8,8))"
      ],
      "execution_count": null,
      "outputs": []
    },
    {
      "cell_type": "code",
      "metadata": {
        "id": "u9ckujLWnm2m",
        "colab_type": "code",
        "colab": {}
      },
      "source": [
        "path_3 = Path('drive/My Drive/google_image_class/class_3')\n",
        "np.random.seed(42)\n",
        "data_3 = ImageDataBunch.from_folder(path_3, train=\".\", valid_pct=0.2,\n",
        "        ds_tfms=get_transforms(), size=224, num_workers=4).normalize(imagenet_stats)\n"
      ],
      "execution_count": null,
      "outputs": []
    },
    {
      "cell_type": "code",
      "metadata": {
        "id": "afceUDesnoqt",
        "colab_type": "code",
        "colab": {}
      },
      "source": [
        "data_3.show_batch(rows=3, figsize=(8,8))"
      ],
      "execution_count": null,
      "outputs": []
    },
    {
      "cell_type": "markdown",
      "metadata": {
        "id": "moVM7Uecxq2t",
        "colab_type": "text"
      },
      "source": [
        "Deep learning"
      ]
    },
    {
      "cell_type": "code",
      "metadata": {
        "id": "nHNONUMjVWrx",
        "colab_type": "code",
        "colab": {}
      },
      "source": [
        ""
      ],
      "execution_count": null,
      "outputs": []
    },
    {
      "cell_type": "markdown",
      "metadata": {
        "id": "QQiYNV59VX1q",
        "colab_type": "text"
      },
      "source": [
        "Balance dataset"
      ]
    },
    {
      "cell_type": "code",
      "metadata": {
        "id": "zHbPeWuiVXXk",
        "colab_type": "code",
        "colab": {}
      },
      "source": [
        "# # Creating Train / Test folders \n",
        "root_dir = 'drive/My Drive/google_image_class/'\n",
        "classes_dir = ['class_1', 'class_2', 'class_3']\n",
        "\n",
        "for cls in classes_dir:\n",
        "    os.makedirs(root_dir +cls+'_bal')\n",
        "    src = root_dir + cls # Folder to copy images from\n",
        "    allFileNames = os.listdir(src)\n",
        "    np.random.choice(allFileNames, 238, replace=False) # balance the images"
      ],
      "execution_count": null,
      "outputs": []
    },
    {
      "cell_type": "markdown",
      "metadata": {
        "id": "cYGce2xq1T5N",
        "colab_type": "text"
      },
      "source": [
        "Create train test setss"
      ]
    },
    {
      "cell_type": "code",
      "metadata": {
        "id": "eOXDiLSg1Tmk",
        "colab_type": "code",
        "colab": {
          "base_uri": "https://localhost:8080/",
          "height": 170
        },
        "outputId": "f1891d49-cde1-41ea-ef40-dcf08c84b048"
      },
      "source": [
        "import os\n",
        "import numpy as np\n",
        "import shutil\n",
        "import random\n",
        "\n",
        "# # Creating Train / Val / Test folders (One time use)\n",
        "root_dir = 'drive/My Drive/google_image_class/'\n",
        "classes_dir = ['class_1', 'class_2', 'class_3']\n",
        "\n",
        "test_ratio = 0.2\n",
        "\n",
        "for cls in classes_dir:\n",
        "    os.makedirs(root_dir +'train/' + cls)\n",
        "    os.makedirs(root_dir +'test/' + cls)\n",
        "\n",
        "    # Creating partitions of the data after shuffling\n",
        "    src = root_dir + cls # Folder to copy images from\n",
        "\n",
        "    allFileNames1 = os.listdir(src)\n",
        "    allFileNames=np.random.choice(allFileNames1, 238, replace=False)\n",
        "    #np.random.shuffle(allFileNames)\n",
        "    train_FileNames, test_FileNames = np.split(np.array(allFileNames),[int(len(allFileNames)* (1 - test_ratio))])\n",
        "\n",
        "    train_FileNames = [src+'/'+ name for name in train_FileNames.tolist()]\n",
        "    test_FileNames = [src+'/' + name for name in test_FileNames.tolist()]\n",
        "\n",
        "    print('Total images: ', len(allFileNames))\n",
        "    print('Training: ', len(train_FileNames))\n",
        "    print('Testing: ', len(test_FileNames))\n",
        "\n",
        "    # Copy-pasting images\n",
        "    for name in train_FileNames:\n",
        "        shutil.copy(name, root_dir +'train/' + cls)\n",
        "\n",
        "    for name in test_FileNames:\n",
        "        shutil.copy(name, root_dir +'test/' + cls)"
      ],
      "execution_count": null,
      "outputs": [
        {
          "output_type": "stream",
          "text": [
            "Total images:  238\n",
            "Training:  190\n",
            "Testing:  48\n",
            "Total images:  238\n",
            "Training:  190\n",
            "Testing:  48\n",
            "Total images:  238\n",
            "Training:  190\n",
            "Testing:  48\n"
          ],
          "name": "stdout"
        }
      ]
    },
    {
      "cell_type": "markdown",
      "metadata": {
        "id": "AJtigONozNzN",
        "colab_type": "text"
      },
      "source": [
        "Transfer learning (feature extraction)"
      ]
    },
    {
      "cell_type": "code",
      "metadata": {
        "id": "wiyMD7UokeQ7",
        "colab_type": "code",
        "colab": {}
      },
      "source": [
        "import numpy as np\n",
        "from keras.preprocessing import image\n",
        "from keras.models import Sequential\n",
        "from tensorflow.keras.applications.imagenet_utils import preprocess_input, decode_predictions\n",
        "from keras.layers.convolutional import Convolution2D, AveragePooling2D\n",
        "from keras.optimizers import SGD\n",
        "from keras.layers.core import Activation\n",
        "from keras.layers.core import Flatten\n",
        "from keras.layers.core import Dense\n",
        "from keras.layers import Dropout\n",
        "from keras.models import Model\n",
        "from multiprocessing import Pool\n",
        "import os\n",
        "import time"
      ],
      "execution_count": null,
      "outputs": []
    },
    {
      "cell_type": "code",
      "metadata": {
        "id": "JKE7KlC4hNTF",
        "colab_type": "code",
        "colab": {
          "base_uri": "https://localhost:8080/",
          "height": 71
        },
        "outputId": "28da4dc1-405e-4fde-f034-c99121321b0e"
      },
      "source": [
        "# load pre-trained model\n",
        "from tensorflow.keras.applications.vgg16 import VGG16\n",
        "model_vgg16 = VGG16(weights='imagenet', include_top=False)"
      ],
      "execution_count": null,
      "outputs": [
        {
          "output_type": "stream",
          "text": [
            "Downloading data from https://storage.googleapis.com/tensorflow/keras-applications/vgg16/vgg16_weights_tf_dim_ordering_tf_kernels_notop.h5\n",
            "58892288/58889256 [==============================] - 2s 0us/step\n"
          ],
          "name": "stdout"
        }
      ]
    },
    {
      "cell_type": "code",
      "metadata": {
        "id": "_51zTjc-x4Xl",
        "colab_type": "code",
        "colab": {
          "base_uri": "https://localhost:8080/",
          "height": 71
        },
        "outputId": "00f89a14-6667-4856-f981-4753bd3e3090"
      },
      "source": [
        "from tensorflow.keras.applications.resnet50 import ResNet50\n",
        "model_ResNet50 = ResNet50(weights='imagenet')"
      ],
      "execution_count": null,
      "outputs": [
        {
          "output_type": "stream",
          "text": [
            "Downloading data from https://storage.googleapis.com/tensorflow/keras-applications/resnet/resnet50_weights_tf_dim_ordering_tf_kernels.h5\n",
            "102973440/102967424 [==============================] - 3s 0us/step\n"
          ],
          "name": "stdout"
        }
      ]
    },
    {
      "cell_type": "code",
      "metadata": {
        "id": "aoq0-nXH3A4g",
        "colab_type": "code",
        "colab": {
          "base_uri": "https://localhost:8080/",
          "height": 71
        },
        "outputId": "ff34ab13-774b-41f5-a74c-6724c77c9391"
      },
      "source": [
        "from tensorflow.keras.applications.inception_v3 import InceptionV3\n",
        "model_inceptionV3 = InceptionV3(weights='imagenet', include_top=False)"
      ],
      "execution_count": null,
      "outputs": [
        {
          "output_type": "stream",
          "text": [
            "Downloading data from https://storage.googleapis.com/tensorflow/keras-applications/inception_v3/inception_v3_weights_tf_dim_ordering_tf_kernels_notop.h5\n",
            "87916544/87910968 [==============================] - 2s 0us/step\n"
          ],
          "name": "stdout"
        }
      ]
    },
    {
      "cell_type": "code",
      "metadata": {
        "id": "cegJtNUdhX9n",
        "colab_type": "code",
        "colab": {}
      },
      "source": [
        "def get_input_feature(img_path):\n",
        "    # img = image.load_img(img_path, target_size=(400, 400))\n",
        "    img = image.load_img(img_path, target_size=(224, 224))\n",
        "    x = image.img_to_array(img)\n",
        "    x = np.expand_dims(x, axis=0)\n",
        "    x = preprocess_input(x)\n",
        "    features = model_inceptionV3.predict(x)\n",
        "    return features[0]"
      ],
      "execution_count": null,
      "outputs": []
    },
    {
      "cell_type": "code",
      "metadata": {
        "id": "Q05ve_TqydOy",
        "colab_type": "code",
        "colab": {}
      },
      "source": [
        "# train\n",
        "all_figures = []\n",
        "trainLabels = []\n",
        "\n",
        "path_1 = 'drive/My Drive/google_image_class/train/class_1/'\n",
        "class_1_files = os.listdir(path_1)\n",
        "trainLabels += [[1, 0, 0]] * len(class_1_files)\n",
        "all_figures += [path_1 + i for i in class_1_files]\n",
        "\n",
        "path_2 = 'drive/My Drive/google_image_class/train/class_2/'\n",
        "class_2_files = os.listdir(path_2)\n",
        "trainLabels += [[0, 1, 0]] * len(class_2_files)\n",
        "all_figures += [path_2 + i for i in class_2_files]\n",
        "\n",
        "path_3 = 'drive/My Drive/google_image_class/train/class_3/'\n",
        "class_3_files = os.listdir(path_3)\n",
        "trainLabels += [[0, 0, 1]] * len(class_3_files)\n",
        "all_figures += [path_3 + i for i in class_3_files]"
      ],
      "execution_count": null,
      "outputs": []
    },
    {
      "cell_type": "code",
      "metadata": {
        "id": "qgEfN6M9zNMq",
        "colab_type": "code",
        "colab": {
          "base_uri": "https://localhost:8080/",
          "height": 221
        },
        "outputId": "2d4f3f80-59c2-457a-dc8b-e001ba36d1e5"
      },
      "source": [
        "trainData = []\n",
        "t1 = time.time()\n",
        "for idx, i in enumerate(all_figures):\n",
        "    a = get_input_feature(i)\n",
        "    trainData.append(a)\n",
        "    if idx % 100 == 0:\n",
        "        t2 = time.time()\n",
        "        print(idx)\n",
        "        print((t2 - t1), 'sec')\n",
        "        t1 = time.time()"
      ],
      "execution_count": null,
      "outputs": [
        {
          "output_type": "stream",
          "text": [
            "0\n",
            "0.03638488054275513 min\n",
            "100\n",
            "0.11752695242563883 min\n",
            "200\n",
            "0.12909011443456014 min\n",
            "300\n",
            "0.1283322016398112 min\n",
            "400\n",
            "0.12995003461837767 min\n",
            "500\n",
            "0.129706076780955 min\n"
          ],
          "name": "stdout"
        }
      ]
    },
    {
      "cell_type": "code",
      "metadata": {
        "id": "cdQ_sfMDz9zr",
        "colab_type": "code",
        "colab": {}
      },
      "source": [
        "x_all = np.asarray(trainData)\n",
        "y_all = np.asarray(trainLabels)\n",
        "\n",
        "# test\n",
        "all_figures = []\n",
        "testLabels = []\n",
        "\n",
        "path_1 = 'drive/My Drive/google_image_class/test/class_1/'\n",
        "# path_1 = 'google_image_cnn/class_1/'\n",
        "class_1_files = os.listdir(path_1)\n",
        "testLabels += [[1, 0, 0]] * len(class_1_files)\n",
        "all_figures += [path_1 + i for i in class_1_files]\n",
        "\n",
        "path_2 = 'drive/My Drive/google_image_class/test/class_2/'\n",
        "# path_2 = 'google_image_cnn/class_2/'\n",
        "class_2_files = os.listdir(path_2)\n",
        "testLabels += [[0, 1, 0]] * len(class_2_files)\n",
        "all_figures += [path_2 + i for i in class_2_files]\n",
        "\n",
        "path_3 = 'drive/My Drive/google_image_class/test/class_3/'\n",
        "# path_3 = 'google_image_cnn/class_3/'\n",
        "class_3_files = os.listdir(path_3)\n",
        "testLabels += [[0, 0, 1]] * len(class_3_files)\n",
        "all_figures += [path_3 + i for i in class_3_files]"
      ],
      "execution_count": null,
      "outputs": []
    },
    {
      "cell_type": "code",
      "metadata": {
        "id": "RuLpkvR90zry",
        "colab_type": "code",
        "colab": {
          "base_uri": "https://localhost:8080/",
          "height": 51
        },
        "outputId": "810f1030-b334-499f-a1ca-96b7751ed3e1"
      },
      "source": [
        "testData = []\n",
        "t1 = time.time()\n",
        "for idx, i in enumerate(all_figures):\n",
        "    a = get_input_feature(i)\n",
        "    testData.append(a)\n",
        "    if idx % 1000 == 0:\n",
        "        t2 = time.time()\n",
        "        print(idx)\n",
        "        print(t2 - t1, 'sec')\n",
        "        t1 = time.time()\n",
        "\n",
        "x_all_test = np.asarray(testData)\n",
        "y_all_test = np.asarray(testLabels)"
      ],
      "execution_count": null,
      "outputs": [
        {
          "output_type": "stream",
          "text": [
            "0\n",
            "0.08489322662353516\n"
          ],
          "name": "stdout"
        }
      ]
    },
    {
      "cell_type": "code",
      "metadata": {
        "id": "XXJGIlsmtcqz",
        "colab_type": "code",
        "colab": {}
      },
      "source": [
        "\n",
        "# np.savez('google_image_feature.npz', x_all=x_all, y_all=y_all)\n",
        "np.savez('google_image_feature_InceptionV3.npz', x_all=x_all, y_all=y_all, x_all_test=x_all_test, y_all_test=y_all_test)\n"
      ],
      "execution_count": null,
      "outputs": []
    },
    {
      "cell_type": "code",
      "metadata": {
        "id": "HAAcg7hE3w9U",
        "colab_type": "code",
        "colab": {}
      },
      "source": [
        ""
      ],
      "execution_count": null,
      "outputs": []
    }
  ]
}